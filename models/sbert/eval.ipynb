{
 "cells": [
  {
   "cell_type": "code",
   "execution_count": null,
   "metadata": {},
   "outputs": [],
   "source": [
    "import pandas as pd\n",
    "import numpy as np\n",
    "\n",
    "import matplotlib.pyplot as plt\n",
    "\n",
    "df_train = pd.read_csv('../../data/processed_train_data.csv')\n",
    "df_eval = pd.read_csv('../../data/processed_eval_data.csv')\n",
    "df_test = pd.read_csv('../../data/processed_test_data.csv')"
   ]
  },
  {
   "cell_type": "code",
   "execution_count": 4,
   "metadata": {},
   "outputs": [
    {
     "name": "stdout",
     "output_type": "stream",
     "text": [
      "Resume Average Length:  4783.693509615385\n",
      "Job Description Average Length:  2136.385216346154\n",
      "Test Set Average Length:  4657.118817509949\n"
     ]
    }
   ],
   "source": [
    "print(\"Resume Average Length: \",df_train['resume_text'].str.len().mean())\n",
    "print(\"Job Description Average Length: \",df_train['job_description_text'].str.len().mean())\n",
    "print(\"Test Set Average Length: \",df_test['resume_text'].str.len().mean())\n"
   ]
  },
  {
   "cell_type": "code",
   "execution_count": null,
   "metadata": {},
   "outputs": [],
   "source": []
  }
 ],
 "metadata": {
  "kernelspec": {
   "display_name": "jobfit_env",
   "language": "python",
   "name": "python3"
  },
  "language_info": {
   "codemirror_mode": {
    "name": "ipython",
    "version": 3
   },
   "file_extension": ".py",
   "mimetype": "text/x-python",
   "name": "python",
   "nbconvert_exporter": "python",
   "pygments_lexer": "ipython3",
   "version": "3.10.15"
  }
 },
 "nbformat": 4,
 "nbformat_minor": 2
}
