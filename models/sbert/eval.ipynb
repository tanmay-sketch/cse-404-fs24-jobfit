{
 "cells": [
  {
   "cell_type": "code",
   "execution_count": null,
   "metadata": {},
   "outputs": [],
   "source": [
    "import pandas as pd\n",
    "import numpy as np\n",
    "\n",
    "import matplotlib.pyplot as plt\n",
    "\n",
    "df_train = pd.read_csv('../../data/processed_train_data.csv')\n",
    "df_eval = pd.read_csv('../../data/processed_eval_data.csv')\n",
    "df_test = pd.read_csv('../../data/processed_test_data.csv')"
   ]
  },
  {
   "cell_type": "code",
   "execution_count": 5,
   "metadata": {},
   "outputs": [
    {
     "data": {
      "text/html": [
       "<div>\n",
       "<style scoped>\n",
       "    .dataframe tbody tr th:only-of-type {\n",
       "        vertical-align: middle;\n",
       "    }\n",
       "\n",
       "    .dataframe tbody tr th {\n",
       "        vertical-align: top;\n",
       "    }\n",
       "\n",
       "    .dataframe thead th {\n",
       "        text-align: right;\n",
       "    }\n",
       "</style>\n",
       "<table border=\"1\" class=\"dataframe\">\n",
       "  <thead>\n",
       "    <tr style=\"text-align: right;\">\n",
       "      <th></th>\n",
       "      <th>resume_text</th>\n",
       "      <th>job_description_text</th>\n",
       "      <th>label</th>\n",
       "    </tr>\n",
       "  </thead>\n",
       "  <tbody>\n",
       "    <tr>\n",
       "      <th>0</th>\n",
       "      <td>profilehighly motivated sale associate extensi...</td>\n",
       "      <td>company description nbc sport next sport techn...</td>\n",
       "      <td>2</td>\n",
       "    </tr>\n",
       "    <tr>\n",
       "      <th>1</th>\n",
       "      <td>summaryhighlymotivated employee desire take ne...</td>\n",
       "      <td>alten technology usa engineering company provi...</td>\n",
       "      <td>1</td>\n",
       "    </tr>\n",
       "    <tr>\n",
       "      <th>2</th>\n",
       "      <td>professional summaryhighly motivated sale asso...</td>\n",
       "      <td>reality lab meta building product make easier ...</td>\n",
       "      <td>2</td>\n",
       "    </tr>\n",
       "    <tr>\n",
       "      <th>3</th>\n",
       "      <td>summaryi seeking position wherein may use prov...</td>\n",
       "      <td>job description java developer lead software e...</td>\n",
       "      <td>1</td>\n",
       "    </tr>\n",
       "    <tr>\n",
       "      <th>4</th>\n",
       "      <td>profilehighly motivated sale associate extensi...</td>\n",
       "      <td>review analyzes evaluates business system user...</td>\n",
       "      <td>0</td>\n",
       "    </tr>\n",
       "  </tbody>\n",
       "</table>\n",
       "</div>"
      ],
      "text/plain": [
       "                                         resume_text  \\\n",
       "0  profilehighly motivated sale associate extensi...   \n",
       "1  summaryhighlymotivated employee desire take ne...   \n",
       "2  professional summaryhighly motivated sale asso...   \n",
       "3  summaryi seeking position wherein may use prov...   \n",
       "4  profilehighly motivated sale associate extensi...   \n",
       "\n",
       "                                job_description_text  label  \n",
       "0  company description nbc sport next sport techn...      2  \n",
       "1  alten technology usa engineering company provi...      1  \n",
       "2  reality lab meta building product make easier ...      2  \n",
       "3  job description java developer lead software e...      1  \n",
       "4  review analyzes evaluates business system user...      0  "
      ]
     },
     "execution_count": 5,
     "metadata": {},
     "output_type": "execute_result"
    }
   ],
   "source": [
    "df_train.head()"
   ]
  },
  {
   "cell_type": "code",
   "execution_count": 4,
   "metadata": {},
   "outputs": [
    {
     "name": "stdout",
     "output_type": "stream",
     "text": [
      "Resume Average Length:  4783.693509615385\n",
      "Job Description Average Length:  2136.385216346154\n",
      "Test Set Average Length:  4657.118817509949\n"
     ]
    }
   ],
   "source": [
    "print(\"Resume Average Length: \",df_train['resume_text'].str.len().mean())\n",
    "print(\"Job Description Average Length: \",df_train['job_description_text'].str.len().mean())\n",
    "print(\"Test Set Average Length: \",df_test['resume_text'].str.len().mean())\n"
   ]
  },
  {
   "cell_type": "code",
   "execution_count": null,
   "metadata": {},
   "outputs": [],
   "source": []
  }
 ],
 "metadata": {
  "kernelspec": {
   "display_name": "jobfit_env",
   "language": "python",
   "name": "python3"
  },
  "language_info": {
   "codemirror_mode": {
    "name": "ipython",
    "version": 3
   },
   "file_extension": ".py",
   "mimetype": "text/x-python",
   "name": "python",
   "nbconvert_exporter": "python",
   "pygments_lexer": "ipython3",
   "version": "3.10.15"
  }
 },
 "nbformat": 4,
 "nbformat_minor": 2
}
